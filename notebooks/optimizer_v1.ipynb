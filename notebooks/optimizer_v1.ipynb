{
 "cells": [
  {
   "cell_type": "markdown",
   "metadata": {},
   "source": [
    "## Stardew Valley Planting Optimizer"
   ]
  },
  {
   "cell_type": "markdown",
   "metadata": {},
   "source": [
    "### Imports and Helper Functions:"
   ]
  },
  {
   "cell_type": "code",
   "execution_count": 1,
   "metadata": {
    "ExecuteTime": {
     "end_time": "2020-03-08T18:31:05.903765Z",
     "start_time": "2020-03-08T18:31:05.575041Z"
    }
   },
   "outputs": [],
   "source": [
    "import math\n",
    "import matplotlib.pyplot as plt\n",
    "import numpy as np\n",
    "\n",
    "from crops import crops\n",
    "from data import seasons\n",
    "from data import ratios"
   ]
  },
  {
   "cell_type": "code",
   "execution_count": 2,
   "metadata": {
    "ExecuteTime": {
     "end_time": "2020-03-08T18:31:05.965361Z",
     "start_time": "2020-03-08T18:31:05.905693Z"
    }
   },
   "outputs": [],
   "source": [
    "def calculate_potential_harvests(days_remaining: int, days_to_grow_first_crop: int, days_to_regrow: int=0) -> int:\n",
    "    \"\"\"\n",
    "    Calculates the maximum number of potential left in a given month, according to the crop specifications.\n",
    "    \n",
    "    :param days_remaining: int, Days remaining in the month.\n",
    "    :param days_to_grow_first_crop: int, Days required for first harvest.\n",
    "    :param days_to_regrow: int, Default=0, Days required for regrowing (if crop does not regrow, then it is not required)\n",
    "    :return: int, number of harvests possible, given crop specifications.\n",
    "    \"\"\"\n",
    "    harvests = 0\n",
    "    if days_to_regrow == 0:\n",
    "        days_to_regrow = days_to_grow_first_crop\n",
    "    if days_remaining > days_to_grow_first_crop:\n",
    "        harvests+=1\n",
    "        days_remaining = days_remaining - days_to_grow_first_crop\n",
    "    else: return 0\n",
    "\n",
    "    while days_remaining > days_to_regrow:\n",
    "        harvests+=1\n",
    "        days_remaining = days_remaining - days_to_regrow\n",
    "        \n",
    "    return harvests\n",
    "\n",
    "\n",
    "def test_calculate_potential_harvests() -> None:\n",
    "    \"\"\"\n",
    "    Unit tests for calculate_potential_harvests()\n",
    "    \"\"\"\n",
    "    assert calculate_potential_harvests(7,6,6) == 1\n",
    "    assert calculate_potential_harvests(13,6,6) == 2\n",
    "    assert calculate_potential_harvests(6,6,1) == 0\n",
    "    assert calculate_potential_harvests(100,1,1) == 99\n",
    "    \n",
    "test_calculate_potential_harvests()\n",
    "\n",
    "\n",
    "def find_optimal_knap_sack(W: int, wt: 'list[int]', val: 'list[int]', n: int) -> (int, list): \n",
    "    \"\"\"\n",
    "    :param W: int, Maximum weight of knap_sack (days remaining in month).\n",
    "    :param wt: list[int], List of weights per item (days required per crop/value combo).\n",
    "    :param val: list[int], List of values per item (value for crop/days required combo).\n",
    "    :param n: int, length of either wts or val (could refactor out).\n",
    "    :return: (int, list[ints]), maximum possible value, keeping weights under W, and also list of weights for reverse searching.\n",
    "    \"\"\"\n",
    "    K = [[0 for w in range(W + 1)] \n",
    "            for i in range(n + 1)] \n",
    "              \n",
    "    # Build table K[][] in bottom \n",
    "    # up manner \n",
    "    for i in range(n + 1): \n",
    "        for w in range(W + 1): \n",
    "            if i == 0 or w == 0: \n",
    "                K[i][w] = 0\n",
    "            elif wt[i - 1] <= w: \n",
    "                K[i][w] = max(val[i - 1]  \n",
    "                  + K[i - 1][w - wt[i - 1]], \n",
    "                               K[i - 1][w]) \n",
    "            else: \n",
    "                K[i][w] = K[i - 1][w] \n",
    "  \n",
    "    # stores the result of Knapsack \n",
    "    res = K[n][W]\n",
    "    temp_res = res\n",
    "    keepers = []\n",
    "    w = W \n",
    "    for i in range(n, 0, -1): \n",
    "        if res <= 0: \n",
    "            break\n",
    "        # either the result comes from the \n",
    "        # top (K[i-1][w]) or from (val[i-1] \n",
    "        # + K[i-1] [w-wt[i-1]]) as in Knapsack \n",
    "        # table. If it comes from the latter \n",
    "        # one/ it means the item is included. \n",
    "        if res == K[i - 1][w]: \n",
    "            continue\n",
    "        else: \n",
    "  \n",
    "            # This item is included. \n",
    "            keepers.append(wt[i - 1])\n",
    "              \n",
    "            # Since this weight is included \n",
    "            # its value is deducted \n",
    "            res = res - val[i - 1] \n",
    "            w = w - wt[i - 1] \n",
    "    return (temp_res, keepers)"
   ]
  },
  {
   "cell_type": "markdown",
   "metadata": {},
   "source": [
    "### Crop Class"
   ]
  },
  {
   "cell_type": "code",
   "execution_count": 3,
   "metadata": {
    "ExecuteTime": {
     "end_time": "2020-03-08T18:31:06.296246Z",
     "start_time": "2020-03-08T18:31:05.968383Z"
    }
   },
   "outputs": [],
   "source": [
    "import pandas as pd\n",
    "class Crop:\n",
    "    \n",
    "    def __init__(self):\n",
    "        \"\"\"\n",
    "        Example usage:\n",
    "            # Initialize object\n",
    "            c = Crop()\n",
    "            c.deserialize(crop_config)\n",
    "            c.build_profit_table(ratio)\n",
    "            \n",
    "            # Access profit table\n",
    "            c.profit_table\n",
    "        \"\"\"\n",
    "        pass\n",
    "    \n",
    "    def deserialize(self, crop_config: dict) -> None:\n",
    "        \"\"\"\n",
    "        Constructs Crop object from crop_config json object.\n",
    "        \n",
    "        :param crop_config: Expects a crop_config similar to\n",
    "        {'amaranth': {'name': 'Amaranth',\n",
    "                      'url': 'http://stardewvalleywiki.com/Amaranth',\n",
    "                      'img': 'amaranth.png',\n",
    "                      'seeds': {'pierre': 70,\n",
    "                       'joja': 87,\n",
    "                       'special': 0,\n",
    "                       'specialLoc': '',\n",
    "                       'specialUrl': ''},\n",
    "                      'growth': {'initial': 7, 'regrow': 0},\n",
    "                      'produce': {'extra': 0,\n",
    "                       'extraPerc': 0,\n",
    "                       'rawN': 150,\n",
    "                       'rawS': 187,\n",
    "                       'rawG': 225,\n",
    "                       'jar': 350,\n",
    "                       'keg': 337,\n",
    "                       'jarType': 'Pickles',\n",
    "                       'kegType': 'Juice'}},\n",
    "        :return: None\n",
    "        \"\"\"\n",
    "        self.name = crop_config['name']\n",
    "        self.growth = crop_config['growth']\n",
    "        self.produce = crop_config['produce']\n",
    "        self.seeds = crop_config['seeds']\n",
    "        \n",
    "    def get_earning_potential(self, ratios: dict, days_remaining_in_month: int) -> float:\n",
    "        \"\"\"\n",
    "        Uses the farming ratios and days remaining in the month to calculate the earning potential\n",
    "        through the end of the month. Trick: Can be used to also calculate profits in the event\n",
    "        you wish to abandon a crop, i.e. days_remaining_in_month = 9 is the same profit value\n",
    "        as starting on day 1 and abandoning crop after 9 days.\n",
    "        \n",
    "        :param ratios: dict, format similar to {'ratioN': 0.97, 'ratioS': 0.02, 'ratioG': 0.01}\n",
    "        :param days_remaining_in_month: int, must be between 1-28 (inclusive).\n",
    "        :return: None\n",
    "        \"\"\"\n",
    "        assert days_remaining_in_month > 0\n",
    "        assert days_remaining_in_month <= 28\n",
    "        remaining_harvests = calculate_potential_harvests(days_remaining_in_month, self.growth['initial'], self.growth['regrow'])\n",
    "        profit = 0\n",
    "        profit += self.produce['rawN'] * ratios['ratioN'] * remaining_harvests;\n",
    "        profit += self.produce['rawS'] * ratios['ratioS'] * remaining_harvests;\n",
    "        profit += self.produce['rawG'] * ratios['ratioG'] * remaining_harvests;\n",
    "\n",
    "        if (self.produce['extra'] > 0):\n",
    "            profit += self.produce['rawN'] * self.produce['extraPerc'] * self.produce['extra'] * remaining_harvests\n",
    "        return profit\n",
    "#         if (options.skills.till) {\n",
    "#             profit *= 1.1;\n",
    "#             // console.log(\"Profit (After skills): \" + profit);\n",
    "#         }\n",
    "#             else {\n",
    "#                 var items = total_harvests;\n",
    "#                 items += crop.produce.extraPerc * crop.produce.extra * total_harvests;\n",
    "\n",
    "#                 switch (produce) {\n",
    "#                     case 1: profit += items * crop.produce.jar; break;\n",
    "#                     case 2: profit += items * crop.produce.keg; break;\n",
    "#                 }\n",
    "\n",
    "#                 if (options.skills.arti) {\n",
    "#                     profit *= 1.4;\n",
    "#                 }\n",
    "\n",
    "    def build_profit_table(self, ratios: dict) -> None:\n",
    "        \"\"\"\n",
    "        Iteratively builds a profit table with columns 'days_required' & 'earning_potential' for \n",
    "        every day in the month, based on the farming ratios. This table can be accessed as a field\n",
    "        from the object.\n",
    "        \n",
    "        :param ratios: dict, format similar to {'ratioN': 0.97, 'ratioS': 0.02, 'ratioG': 0.01}\n",
    "        :return: None\n",
    "        \"\"\"\n",
    "        day_list= np.arange(1, 29)\n",
    "        profit_table = pd.DataFrame()\n",
    "        for day in day_list:\n",
    "            profit_table = profit_table.append({\n",
    "                'crop':self.name,\n",
    "                'days_required':day,\n",
    "                'earning_potential':self.get_earning_potential(ratio, days_remaining_in_month=day)\n",
    "            }, [0])\n",
    "        self.profit_table = profit_table.reset_index(drop=True)"
   ]
  },
  {
   "cell_type": "markdown",
   "metadata": {},
   "source": [
    "### Example Usage"
   ]
  },
  {
   "cell_type": "markdown",
   "metadata": {},
   "source": [
    "#### Intialize all crops for season (Spring), create crop_list for easier storage"
   ]
  },
  {
   "cell_type": "code",
   "execution_count": 4,
   "metadata": {
    "ExecuteTime": {
     "end_time": "2020-03-08T18:31:06.975533Z",
     "start_time": "2020-03-08T18:31:06.298606Z"
    }
   },
   "outputs": [],
   "source": [
    "spring = seasons[0]\n",
    "crop_list = []\n",
    "drop_crops = ['Coffee Bean', 'Strawberry']\n",
    "ratio=ratios['none'][0]\n",
    "\n",
    "for crop in spring['crops']:\n",
    "    if crop['name'] not in drop_crops:\n",
    "        c = Crop()\n",
    "        c.deserialize(crop)\n",
    "        c.build_profit_table(ratio)\n",
    "        crop_list.append(c)"
   ]
  },
  {
   "cell_type": "code",
   "execution_count": 5,
   "metadata": {
    "ExecuteTime": {
     "end_time": "2020-03-08T18:31:06.991060Z",
     "start_time": "2020-03-08T18:31:06.978079Z"
    }
   },
   "outputs": [
    {
     "data": {
      "text/html": [
       "<div>\n",
       "<style scoped>\n",
       "    .dataframe tbody tr th:only-of-type {\n",
       "        vertical-align: middle;\n",
       "    }\n",
       "\n",
       "    .dataframe tbody tr th {\n",
       "        vertical-align: top;\n",
       "    }\n",
       "\n",
       "    .dataframe thead th {\n",
       "        text-align: right;\n",
       "    }\n",
       "</style>\n",
       "<table border=\"1\" class=\"dataframe\">\n",
       "  <thead>\n",
       "    <tr style=\"text-align: right;\">\n",
       "      <th></th>\n",
       "      <th>crop</th>\n",
       "      <th>days_required</th>\n",
       "      <th>earning_potential</th>\n",
       "    </tr>\n",
       "  </thead>\n",
       "  <tbody>\n",
       "    <tr>\n",
       "      <th>23</th>\n",
       "      <td>Rhubarb</td>\n",
       "      <td>24.0</td>\n",
       "      <td>222.2</td>\n",
       "    </tr>\n",
       "    <tr>\n",
       "      <th>24</th>\n",
       "      <td>Rhubarb</td>\n",
       "      <td>25.0</td>\n",
       "      <td>222.2</td>\n",
       "    </tr>\n",
       "    <tr>\n",
       "      <th>25</th>\n",
       "      <td>Rhubarb</td>\n",
       "      <td>26.0</td>\n",
       "      <td>222.2</td>\n",
       "    </tr>\n",
       "    <tr>\n",
       "      <th>26</th>\n",
       "      <td>Rhubarb</td>\n",
       "      <td>27.0</td>\n",
       "      <td>444.4</td>\n",
       "    </tr>\n",
       "    <tr>\n",
       "      <th>27</th>\n",
       "      <td>Rhubarb</td>\n",
       "      <td>28.0</td>\n",
       "      <td>444.4</td>\n",
       "    </tr>\n",
       "  </tbody>\n",
       "</table>\n",
       "</div>"
      ],
      "text/plain": [
       "       crop  days_required  earning_potential\n",
       "23  Rhubarb           24.0              222.2\n",
       "24  Rhubarb           25.0              222.2\n",
       "25  Rhubarb           26.0              222.2\n",
       "26  Rhubarb           27.0              444.4\n",
       "27  Rhubarb           28.0              444.4"
      ]
     },
     "execution_count": 5,
     "metadata": {},
     "output_type": "execute_result"
    }
   ],
   "source": [
    "crop_list[0].profit_table.tail()"
   ]
  },
  {
   "cell_type": "markdown",
   "metadata": {},
   "source": [
    "#### Create new DF for analysis (append all crop profit tables into same DF)"
   ]
  },
  {
   "cell_type": "code",
   "execution_count": 6,
   "metadata": {
    "ExecuteTime": {
     "end_time": "2020-03-08T18:31:07.005028Z",
     "start_time": "2020-03-08T18:31:06.993237Z"
    }
   },
   "outputs": [],
   "source": [
    "df = pd.DataFrame()\n",
    "for crop in crop_list:\n",
    "    df = df.append(crop.profit_table)"
   ]
  },
  {
   "cell_type": "code",
   "execution_count": 7,
   "metadata": {
    "ExecuteTime": {
     "end_time": "2020-03-08T18:31:07.592529Z",
     "start_time": "2020-03-08T18:31:07.007526Z"
    }
   },
   "outputs": [
    {
     "data": {
      "image/png": "[encoded data removed]",
      "text/plain": [
       "<Figure size 1440x720 with 1 Axes>"
      ]
     },
     "metadata": {
      "needs_background": "light"
     },
     "output_type": "display_data"
    }
   ],
   "source": [
    "plt.figure(figsize=[20,10])\n",
    "for crop in np.unique(df['crop']):\n",
    "    plt_data = df[df['crop'] == crop].reset_index(drop=True)\n",
    "    plt.plot(plt_data['earning_potential'], label=crop)\n",
    "plt.legend()\n",
    "plt.xlabel('Days Required')\n",
    "plt.ylabel('Potential Earnings')\n",
    "plt.show()\n"
   ]
  },
  {
   "cell_type": "markdown",
   "metadata": {},
   "source": [
    "#### Find minimum days required for a given crop-earning potential pair"
   ]
  },
  {
   "cell_type": "code",
   "execution_count": 8,
   "metadata": {
    "ExecuteTime": {
     "end_time": "2020-03-08T18:31:07.604915Z",
     "start_time": "2020-03-08T18:31:07.594987Z"
    }
   },
   "outputs": [],
   "source": [
    "min_days_df = (df.groupby(['crop', 'earning_potential'])\n",
    "                 .min()\n",
    "                 .reset_index()\n",
    "                 .sort_values('earning_potential')\n",
    "                 .reset_index(drop=True))"
   ]
  },
  {
   "cell_type": "markdown",
   "metadata": {},
   "source": [
    "#### Intialize Knap Sack Problem"
   ]
  },
  {
   "cell_type": "code",
   "execution_count": 9,
   "metadata": {
    "ExecuteTime": {
     "end_time": "2020-03-08T18:31:07.614898Z",
     "start_time": "2020-03-08T18:31:07.607346Z"
    }
   },
   "outputs": [],
   "source": [
    "item_weights = [int(x) for x in min_days_df['days_required']]\n",
    "item_values = [int(x) for x in min_days_df['earning_potential']]\n",
    "days_remaining_in_month = 28\n",
    "n = len(item_values) \n",
    "      \n",
    "res, keepers = find_optimal_knap_sack(days_remaining_in_month, item_weights, item_values, n) "
   ]
  },
  {
   "cell_type": "markdown",
   "metadata": {},
   "source": [
    "#### Reverse search the profit table based on optimal value (res)"
   ]
  },
  {
   "cell_type": "code",
   "execution_count": 10,
   "metadata": {
    "ExecuteTime": {
     "end_time": "2020-03-08T18:31:07.628467Z",
     "start_time": "2020-03-08T18:31:07.617702Z"
    }
   },
   "outputs": [
    {
     "data": {
      "text/html": [
       "<div>\n",
       "<style scoped>\n",
       "    .dataframe tbody tr th:only-of-type {\n",
       "        vertical-align: middle;\n",
       "    }\n",
       "\n",
       "    .dataframe tbody tr th {\n",
       "        vertical-align: top;\n",
       "    }\n",
       "\n",
       "    .dataframe thead th {\n",
       "        text-align: right;\n",
       "    }\n",
       "</style>\n",
       "<table border=\"1\" class=\"dataframe\">\n",
       "  <thead>\n",
       "    <tr style=\"text-align: right;\">\n",
       "      <th></th>\n",
       "      <th>crop</th>\n",
       "      <th>earning_potential</th>\n",
       "      <th>days_required</th>\n",
       "    </tr>\n",
       "  </thead>\n",
       "  <tbody>\n",
       "    <tr>\n",
       "      <th>16</th>\n",
       "      <td>Parsnip</td>\n",
       "      <td>70.66</td>\n",
       "      <td>9.0</td>\n",
       "    </tr>\n",
       "    <tr>\n",
       "      <th>18</th>\n",
       "      <td>Tulip</td>\n",
       "      <td>90.87</td>\n",
       "      <td>19.0</td>\n",
       "    </tr>\n",
       "    <tr>\n",
       "      <th>24</th>\n",
       "      <td>Garlic</td>\n",
       "      <td>121.20</td>\n",
       "      <td>9.0</td>\n",
       "    </tr>\n",
       "    <tr>\n",
       "      <th>39</th>\n",
       "      <td>Potato</td>\n",
       "      <td>290.40</td>\n",
       "      <td>19.0</td>\n",
       "    </tr>\n",
       "    <tr>\n",
       "      <th>41</th>\n",
       "      <td>Kale</td>\n",
       "      <td>333.27</td>\n",
       "      <td>19.0</td>\n",
       "    </tr>\n",
       "  </tbody>\n",
       "</table>\n",
       "</div>"
      ],
      "text/plain": [
       "       crop  earning_potential  days_required\n",
       "16  Parsnip              70.66            9.0\n",
       "18    Tulip              90.87           19.0\n",
       "24   Garlic             121.20            9.0\n",
       "39   Potato             290.40           19.0\n",
       "41     Kale             333.27           19.0"
      ]
     },
     "execution_count": 10,
     "metadata": {},
     "output_type": "execute_result"
    }
   ],
   "source": [
    "search_space = min_days_df[[x in keepers for x in item_weights]]\n",
    "search_space"
   ]
  },
  {
   "cell_type": "markdown",
   "metadata": {},
   "source": [
    "#### Find combination of crops where sum(earning_potential) = res"
   ]
  },
  {
   "cell_type": "code",
   "execution_count": 11,
   "metadata": {
    "ExecuteTime": {
     "end_time": "2020-03-08T18:31:07.668907Z",
     "start_time": "2020-03-08T18:31:07.630582Z"
    }
   },
   "outputs": [],
   "source": [
    "from itertools import chain, combinations\n",
    "\n",
    "def powerset(iterable):\n",
    "    s = list(iterable)\n",
    "    return chain.from_iterable(combinations(s, r) for r in range(len(s)+1))\n",
    "\n",
    "optimal_crops = pd.concat([search_space.reindex(l).assign(grp=n) for n, l in \n",
    "                       enumerate(powerset(search_space.index)) \n",
    "                       if int(np.floor((search_space.loc[l, 'earning_potential'].sum())) == res)])"
   ]
  },
  {
   "cell_type": "code",
   "execution_count": 12,
   "metadata": {
    "ExecuteTime": {
     "end_time": "2020-03-08T18:31:07.683017Z",
     "start_time": "2020-03-08T18:31:07.673581Z"
    }
   },
   "outputs": [
    {
     "data": {
      "text/html": [
       "<div>\n",
       "<style scoped>\n",
       "    .dataframe tbody tr th:only-of-type {\n",
       "        vertical-align: middle;\n",
       "    }\n",
       "\n",
       "    .dataframe tbody tr th {\n",
       "        vertical-align: top;\n",
       "    }\n",
       "\n",
       "    .dataframe thead th {\n",
       "        text-align: right;\n",
       "    }\n",
       "</style>\n",
       "<table border=\"1\" class=\"dataframe\">\n",
       "  <thead>\n",
       "    <tr style=\"text-align: right;\">\n",
       "      <th></th>\n",
       "      <th>crop</th>\n",
       "      <th>earning_potential</th>\n",
       "      <th>days_required</th>\n",
       "      <th>grp</th>\n",
       "    </tr>\n",
       "  </thead>\n",
       "  <tbody>\n",
       "    <tr>\n",
       "      <th>24</th>\n",
       "      <td>Garlic</td>\n",
       "      <td>121.20</td>\n",
       "      <td>9.0</td>\n",
       "      <td>14</td>\n",
       "    </tr>\n",
       "    <tr>\n",
       "      <th>41</th>\n",
       "      <td>Kale</td>\n",
       "      <td>333.27</td>\n",
       "      <td>19.0</td>\n",
       "      <td>14</td>\n",
       "    </tr>\n",
       "  </tbody>\n",
       "</table>\n",
       "</div>"
      ],
      "text/plain": [
       "      crop  earning_potential  days_required  grp\n",
       "24  Garlic             121.20            9.0   14\n",
       "41    Kale             333.27           19.0   14"
      ]
     },
     "execution_count": 12,
     "metadata": {},
     "output_type": "execute_result"
    }
   ],
   "source": [
    "optimal_crops"
   ]
  },
  {
   "cell_type": "code",
   "execution_count": 13,
   "metadata": {
    "ExecuteTime": {
     "end_time": "2020-03-08T18:31:07.690107Z",
     "start_time": "2020-03-08T18:31:07.686506Z"
    }
   },
   "outputs": [
    {
     "name": "stdout",
     "output_type": "stream",
     "text": [
      "Optimal earning potential: $454\n"
     ]
    }
   ],
   "source": [
    "print('Optimal earning potential: ${}'.format(res))"
   ]
  },
  {
   "cell_type": "code",
   "execution_count": null,
   "metadata": {},
   "outputs": [],
   "source": []
  }
 ],
 "metadata": {
  "kernelspec": {
   "display_name": "myenv",
   "language": "python",
   "name": "myenv"
  },
  "language_info": {
   "codemirror_mode": {
    "name": "ipython",
    "version": 3
   },
   "file_extension": ".py",
   "mimetype": "text/x-python",
   "name": "python",
   "nbconvert_exporter": "python",
   "pygments_lexer": "ipython3",
   "version": "3.7.1"
  },
  "toc": {
   "colors": {
    "hover_highlight": "#DAA520",
    "navigate_num": "#000000",
    "navigate_text": "#333333",
    "running_highlight": "#FF0000",
    "selected_highlight": "#FFD700",
    "sidebar_border": "#EEEEEE",
    "wrapper_background": "#FFFFFF"
   },
   "moveMenuLeft": true,
   "nav_menu": {
    "height": "207px",
    "width": "252px"
   },
   "navigate_menu": true,
   "number_sections": true,
   "sideBar": true,
   "threshold": 4,
   "toc_cell": false,
   "toc_section_display": "block",
   "toc_window_display": false,
   "widenNotebook": false
  }
 },
 "nbformat": 4,
 "nbformat_minor": 2
}
